{
  "nbformat": 4,
  "nbformat_minor": 0,
  "metadata": {
    "colab": {
      "name": "Cosine Similarity vs Word Embedding.ipynb",
      "provenance": []
    },
    "kernelspec": {
      "name": "python3",
      "display_name": "Python 3"
    },
    "language_info": {
      "name": "python"
    }
  },
  "cells": [
    {
      "cell_type": "code",
      "metadata": {
        "id": "qsRtHKQ81b9U"
      },
      "source": [
        "python -m spacy download en_core_web_md"
      ],
      "execution_count": null,
      "outputs": []
    },
    {
      "cell_type": "code",
      "metadata": {
        "colab": {
          "base_uri": "https://localhost:8080/"
        },
        "id": "1syKGYBtzYqz",
        "outputId": "b38fce4f-92b2-4533-cebb-3b44cae13a2d"
      },
      "source": [
        "#code to calculate spaCy and BoW similarity scores from two texts\n",
        "import spacy\n",
        "from sklearn.metrics.pairwise import cosine_similarity\n",
        "from sklearn.feature_extraction.text import CountVectorizer\n",
        "import pandas as pd\n",
        "\n",
        "#spaCy uses word vectors for medium (md) and large (lg)\n",
        "nlp = spacy.load('en_core_web_md') \n",
        "text1 = 'How can I help end violence in the world?'\n",
        "text2 = 'What should we do to bring global peace?'\n",
        "#Calculates spaCy similarity between texts 1 and 2 - Word Embedding\n",
        "doc1 = nlp(text1)\n",
        "doc2 = nlp(text2)\n",
        "print(\"spaCy similarity:\", doc1.similarity(doc2))\n",
        "\n",
        "#Calculate cosine similarity using Bag-of-Words \n",
        "documents =[text1, text2]\n",
        "count_vectorizer = CountVectorizer(stop_words='english')\n",
        "sparse_matrix = count_vectorizer.fit_transform(documents)\n",
        "doc_term_matrix = sparse_matrix.todense()\n",
        "df = pd.DataFrame(doc_term_matrix, columns=count_vectorizer.get_feature_names(), index=['x', 'y'])\n",
        "print(\"Cosine similarity:\", cosine_similarity(df, df)[0,1])"
      ],
      "execution_count": 1,
      "outputs": [
        {
          "output_type": "stream",
          "name": "stdout",
          "text": [
            "spaCy similarity: 0.9132948449854686\n",
            "Cosine similarity: 0.0\n"
          ]
        }
      ]
    }
  ]
}