{
 "cells": [
  {
   "cell_type": "code",
   "execution_count": 5,
   "id": "71fc6fe0",
   "metadata": {},
   "outputs": [
    {
     "name": "stdout",
     "output_type": "stream",
     "text": [
      "showing info https://raw.githubusercontent.com/nltk/nltk_data/gh-pages/index.xml\n"
     ]
    }
   ],
   "source": [
    "import os\n",
    "import nltk\n",
    "nltk.download()\n",
    "import nltk.corpus"
   ]
  },
  {
   "cell_type": "code",
   "execution_count": 7,
   "id": "13cf4b70",
   "metadata": {},
   "outputs": [
    {
     "name": "stdout",
     "output_type": "stream",
     "text": [
      "['unicode_samples', 'mte_teip5.zip', 'indian', 'stopwords', 'brown', 'swadesh', 'mac_morpho', 'conll2002.zip', 'indian.zip', 'abc', 'comparative_sentences', 'brown_tei.zip', 'cmudict.zip', 'conll2000.zip', 'universal_treebanks_v20.zip', 'words', 'pros_cons', 'udhr2', 'nonbreaking_prefixes.zip', 'lin_thesaurus', 'webtext', 'smultron.zip', 'names', 'sentiwordnet', 'dolch.zip', 'wordnet_ic.zip', 'brown.zip', 'alpino.zip', 'panlex_swadesh.zip', 'cmudict', 'sinica_treebank.zip', 'treebank.zip', 'ptb', 'inaugural', 'ppattach.zip', 'dependency_treebank.zip', 'opinion_lexicon.zip', 'cess_esp.zip', 'product_reviews_2', 'genesis.zip', 'reuters.zip', 'conll2007.zip', 'conll2002', 'comparative_sentences.zip', 'switchboard.zip', 'cess_cat.zip', 'udhr.zip', 'subjectivity.zip', 'pl196x.zip', 'ieer', 'problem_reports', 'timit.zip', 'floresta', 'paradigms.zip', 'gazetteers.zip', 'wordnet.zip', 'inaugural.zip', 'sinica_treebank', 'stopwords.zip', 'verbnet.zip', 'gutenberg', 'ieer.zip', 'ycoe.zip', 'shakespeare.zip', 'sentence_polarity', 'framenet_v17.zip', 'kimmo.zip', 'chat80.zip', 'kimmo', 'qc.zip', 'nonbreaking_prefixes', 'senseval', 'verbnet', 'udhr2.zip', 'senseval.zip', 'chat80', 'framenet_v15.zip', 'unicode_samples.zip', 'biocreative_ppi', 'framenet_v17', 'words.zip', 'pil', 'alpino', 'omw', 'cess_cat', 'shakespeare', 'city_database', 'product_reviews_2.zip', 'abc.zip', 'europarl_raw', 'sentiwordnet.zip', 'rte.zip', 'movie_reviews', 'toolbox.zip', 'product_reviews_1.zip', 'omw.zip', 'jeita.zip', 'wordnet_ic', 'names.zip', 'conll2000', 'dependency_treebank', 'floresta.zip', 'nombank.1.0.zip', 'wordnet', 'cess_esp', 'ptb.zip', 'mac_morpho.zip', 'knbc.zip', 'opinion_lexicon', 'toolbox', 'comtrans.zip', 'swadesh.zip', 'propbank.zip', 'mte_teip5', 'gutenberg.zip', 'product_reviews_1', 'twitter_samples.zip', 'treebank', 'state_union.zip', 'machado.zip', 'rte', 'nps_chat', 'crubadan', 'semcor.zip', 'biocreative_ppi.zip', 'ppattach', 'europarl_raw.zip', 'switchboard', 'brown_tei', 'verbnet3.zip', 'verbnet3', 'crubadan.zip', 'pil.zip', 'ycoe', 'webtext.zip', 'sentence_polarity.zip', 'timit', 'pl196x', 'nps_chat.zip', 'state_union', 'city_database.zip', 'subjectivity', 'framenet_v15', 'masc_tagged.zip', 'paradigms', 'genesis', 'gazetteers', 'twitter_samples', 'qc', 'lin_thesaurus.zip', 'udhr', 'movie_reviews.zip', 'dolch', 'problem_reports.zip', 'smultron', 'pros_cons.zip']\n"
     ]
    }
   ],
   "source": [
    "print(os.listdir(nltk.data.find(\"corpora\")))"
   ]
  },
  {
   "cell_type": "code",
   "execution_count": 10,
   "id": "b6cf7dd6",
   "metadata": {},
   "outputs": [
    {
     "data": {
      "text/plain": [
       "['The', 'Fulton', 'County', 'Grand', 'Jury', 'said', ...]"
      ]
     },
     "execution_count": 10,
     "metadata": {},
     "output_type": "execute_result"
    }
   ],
   "source": [
    "from nltk.corpus import brown\n",
    "brown.words()"
   ]
  },
  {
   "cell_type": "code",
   "execution_count": 12,
   "id": "c1814343",
   "metadata": {},
   "outputs": [
    {
     "data": {
      "text/plain": [
       "['austen-emma.txt',\n",
       " 'austen-persuasion.txt',\n",
       " 'austen-sense.txt',\n",
       " 'bible-kjv.txt',\n",
       " 'blake-poems.txt',\n",
       " 'bryant-stories.txt',\n",
       " 'burgess-busterbrown.txt',\n",
       " 'carroll-alice.txt',\n",
       " 'chesterton-ball.txt',\n",
       " 'chesterton-brown.txt',\n",
       " 'chesterton-thursday.txt',\n",
       " 'edgeworth-parents.txt',\n",
       " 'melville-moby_dick.txt',\n",
       " 'milton-paradise.txt',\n",
       " 'shakespeare-caesar.txt',\n",
       " 'shakespeare-hamlet.txt',\n",
       " 'shakespeare-macbeth.txt',\n",
       " 'whitman-leaves.txt']"
      ]
     },
     "execution_count": 12,
     "metadata": {},
     "output_type": "execute_result"
    }
   ],
   "source": [
    "nltk.corpus.gutenberg.fileids()"
   ]
  },
  {
   "cell_type": "code",
   "execution_count": 15,
   "id": "4c0cd4f4",
   "metadata": {
    "scrolled": true
   },
   "outputs": [
    {
     "name": "stdout",
     "output_type": "stream",
     "text": [
      "[ The Tragedie of Hamlet by William Shakespeare 1599 ] Actus Primus . Scoena Prima . Enter Barnardo and Francisco two Centinels . Barnardo . Who ' s there ? Fran . Nay answer me : Stand & vnfold your selfe Bar . Long liue the King Fran . Barnardo ? Bar . He Fran . You come most carefully vpon your houre Bar . ' Tis now strook twelue , get thee to bed Francisco Fran . For this releefe much thankes : ' Tis bitter cold , And I am sicke at heart Barn . Haue you had "
     ]
    }
   ],
   "source": [
    "hamlet = nltk.corpus.gutenberg.words('shakespeare-hamlet.txt')\n",
    "for word in hamlet[:100]:\n",
    "    print(word, sep=' ', end=' ')"
   ]
  },
  {
   "cell_type": "code",
   "execution_count": 21,
   "id": "4238c93b",
   "metadata": {},
   "outputs": [],
   "source": [
    "something = 'I am Soumi Basu. I am a good person! I am sincere, amazing, creative and kind!'"
   ]
  },
  {
   "cell_type": "code",
   "execution_count": 16,
   "id": "adf44d9a",
   "metadata": {},
   "outputs": [],
   "source": [
    "from nltk.tokenize import word_tokenize"
   ]
  },
  {
   "cell_type": "code",
   "execution_count": 28,
   "id": "97daf856",
   "metadata": {},
   "outputs": [
    {
     "data": {
      "text/plain": [
       "['I',\n",
       " 'am',\n",
       " 'Soumi',\n",
       " 'Basu',\n",
       " '.',\n",
       " 'I',\n",
       " 'am',\n",
       " 'a',\n",
       " 'good',\n",
       " 'person',\n",
       " '!',\n",
       " 'I',\n",
       " 'am',\n",
       " 'sincere',\n",
       " ',',\n",
       " 'amazing',\n",
       " ',',\n",
       " 'creative',\n",
       " 'and',\n",
       " 'kind',\n",
       " '!']"
      ]
     },
     "execution_count": 28,
     "metadata": {},
     "output_type": "execute_result"
    }
   ],
   "source": [
    "some_tokens = word_tokenize(something)\n",
    "some_tokens"
   ]
  },
  {
   "cell_type": "code",
   "execution_count": 29,
   "id": "2d3aa913",
   "metadata": {},
   "outputs": [
    {
     "data": {
      "text/plain": [
       "21"
      ]
     },
     "execution_count": 29,
     "metadata": {},
     "output_type": "execute_result"
    }
   ],
   "source": [
    "len(some_tokens)"
   ]
  },
  {
   "cell_type": "code",
   "execution_count": 30,
   "id": "cf3f7187",
   "metadata": {},
   "outputs": [],
   "source": [
    "from nltk.probability import FreqDist\n",
    "fdist = FreqDist()"
   ]
  },
  {
   "cell_type": "code",
   "execution_count": 31,
   "id": "0503be5e",
   "metadata": {},
   "outputs": [
    {
     "data": {
      "text/plain": [
       "FreqDist({'i': 3, 'am': 3, '!': 2, ',': 2, 'soumi': 1, 'basu': 1, '.': 1, 'a': 1, 'good': 1, 'person': 1, ...})"
      ]
     },
     "execution_count": 31,
     "metadata": {},
     "output_type": "execute_result"
    }
   ],
   "source": [
    "for word in some_tokens:\n",
    "    fdist[word.lower()]+=1\n",
    "fdist"
   ]
  },
  {
   "cell_type": "code",
   "execution_count": 32,
   "id": "d4af5e5f",
   "metadata": {},
   "outputs": [
    {
     "data": {
      "text/plain": [
       "1"
      ]
     },
     "execution_count": 32,
     "metadata": {},
     "output_type": "execute_result"
    }
   ],
   "source": [
    "fdist['soumi']"
   ]
  },
  {
   "cell_type": "code",
   "execution_count": 33,
   "id": "e135c79f",
   "metadata": {},
   "outputs": [
    {
     "data": {
      "text/plain": [
       "15"
      ]
     },
     "execution_count": 33,
     "metadata": {},
     "output_type": "execute_result"
    }
   ],
   "source": [
    "len(fdist) # no of unique tokens"
   ]
  },
  {
   "cell_type": "code",
   "execution_count": 35,
   "id": "5ce599a7",
   "metadata": {},
   "outputs": [
    {
     "data": {
      "text/plain": [
       "[('i', 3), ('am', 3), ('!', 2)]"
      ]
     },
     "execution_count": 35,
     "metadata": {},
     "output_type": "execute_result"
    }
   ],
   "source": [
    "word_top3 = fdist.most_common(3)\n",
    "word_top3"
   ]
  },
  {
   "cell_type": "code",
   "execution_count": 37,
   "id": "16f7d798",
   "metadata": {},
   "outputs": [
    {
     "data": {
      "text/plain": [
       "['I am Soumi Basu. I am a good person! I am sincere, amazing, creative and kind!']"
      ]
     },
     "execution_count": 37,
     "metadata": {},
     "output_type": "execute_result"
    }
   ],
   "source": [
    "from nltk.tokenize import blankline_tokenize\n",
    "some_bl = blankline_tokenize(something)\n",
    "some_bl"
   ]
  },
  {
   "cell_type": "code",
   "execution_count": 38,
   "id": "f03a31f3",
   "metadata": {},
   "outputs": [
    {
     "data": {
      "text/plain": [
       "1"
      ]
     },
     "execution_count": 38,
     "metadata": {},
     "output_type": "execute_result"
    }
   ],
   "source": [
    "len(some_bl) # has one  , checks for no. of paragraphs separated by new line"
   ]
  },
  {
   "cell_type": "markdown",
   "id": "331469c5",
   "metadata": {},
   "source": [
    "# BiGrams, TriGrams and NGrams"
   ]
  },
  {
   "cell_type": "code",
   "execution_count": 43,
   "id": "0523bd73",
   "metadata": {},
   "outputs": [
    {
     "data": {
      "text/plain": [
       "[('I', 'am'),\n",
       " ('am', 'Soumi'),\n",
       " ('Soumi', 'Basu'),\n",
       " ('Basu', '.'),\n",
       " ('.', 'I'),\n",
       " ('I', 'am'),\n",
       " ('am', 'a'),\n",
       " ('a', 'good'),\n",
       " ('good', 'person'),\n",
       " ('person', '!'),\n",
       " ('!', 'I'),\n",
       " ('I', 'am'),\n",
       " ('am', 'sincere'),\n",
       " ('sincere', ','),\n",
       " (',', 'amazing'),\n",
       " ('amazing', ','),\n",
       " (',', 'creative'),\n",
       " ('creative', 'and'),\n",
       " ('and', 'kind'),\n",
       " ('kind', '!')]"
      ]
     },
     "execution_count": 43,
     "metadata": {},
     "output_type": "execute_result"
    }
   ],
   "source": [
    "some_big = list(nltk.bigrams(some_tokens))\n",
    "some_big"
   ]
  },
  {
   "cell_type": "code",
   "execution_count": 44,
   "id": "5a981db3",
   "metadata": {},
   "outputs": [
    {
     "data": {
      "text/plain": [
       "[('I', 'am', 'Soumi'),\n",
       " ('am', 'Soumi', 'Basu'),\n",
       " ('Soumi', 'Basu', '.'),\n",
       " ('Basu', '.', 'I'),\n",
       " ('.', 'I', 'am'),\n",
       " ('I', 'am', 'a'),\n",
       " ('am', 'a', 'good'),\n",
       " ('a', 'good', 'person'),\n",
       " ('good', 'person', '!'),\n",
       " ('person', '!', 'I'),\n",
       " ('!', 'I', 'am'),\n",
       " ('I', 'am', 'sincere'),\n",
       " ('am', 'sincere', ','),\n",
       " ('sincere', ',', 'amazing'),\n",
       " (',', 'amazing', ','),\n",
       " ('amazing', ',', 'creative'),\n",
       " (',', 'creative', 'and'),\n",
       " ('creative', 'and', 'kind'),\n",
       " ('and', 'kind', '!')]"
      ]
     },
     "execution_count": 44,
     "metadata": {},
     "output_type": "execute_result"
    }
   ],
   "source": [
    "some_trig = list(nltk.trigrams(some_tokens))\n",
    "some_trig"
   ]
  },
  {
   "cell_type": "code",
   "execution_count": 46,
   "id": "fadf30b6",
   "metadata": {},
   "outputs": [
    {
     "data": {
      "text/plain": [
       "[('I', 'am', 'Soumi', 'Basu'),\n",
       " ('am', 'Soumi', 'Basu', '.'),\n",
       " ('Soumi', 'Basu', '.', 'I'),\n",
       " ('Basu', '.', 'I', 'am'),\n",
       " ('.', 'I', 'am', 'a'),\n",
       " ('I', 'am', 'a', 'good'),\n",
       " ('am', 'a', 'good', 'person'),\n",
       " ('a', 'good', 'person', '!'),\n",
       " ('good', 'person', '!', 'I'),\n",
       " ('person', '!', 'I', 'am'),\n",
       " ('!', 'I', 'am', 'sincere'),\n",
       " ('I', 'am', 'sincere', ','),\n",
       " ('am', 'sincere', ',', 'amazing'),\n",
       " ('sincere', ',', 'amazing', ','),\n",
       " (',', 'amazing', ',', 'creative'),\n",
       " ('amazing', ',', 'creative', 'and'),\n",
       " (',', 'creative', 'and', 'kind'),\n",
       " ('creative', 'and', 'kind', '!')]"
      ]
     },
     "execution_count": 46,
     "metadata": {},
     "output_type": "execute_result"
    }
   ],
   "source": [
    "some_ng = list(nltk.ngrams(some_tokens, 4))\n",
    "some_ng"
   ]
  },
  {
   "cell_type": "markdown",
   "id": "62109a61",
   "metadata": {},
   "source": [
    "# Stemming\n",
    "\n",
    "Normalize words into its base/root form"
   ]
  },
  {
   "cell_type": "code",
   "execution_count": 52,
   "id": "91ec1753",
   "metadata": {},
   "outputs": [
    {
     "name": "stdout",
     "output_type": "stream",
     "text": [
      "affection\n",
      "affect\n",
      "stem\n",
      "beauti\n",
      "beautif\n"
     ]
    }
   ],
   "source": [
    "from nltk.stem import PorterStemmer\n",
    "pst = PorterStemmer()\n",
    "print(pst.stem('Affectionate'))\n",
    "print(pst.stem('affecting'))\n",
    "print(pst.stem('stemming'))\n",
    "print(pst.stem('beautiful'))\n",
    "print(pst.stem('beautification'))"
   ]
  },
  {
   "cell_type": "code",
   "execution_count": 53,
   "id": "1b1fa7dc",
   "metadata": {},
   "outputs": [
    {
     "name": "stdout",
     "output_type": "stream",
     "text": [
      "affect\n",
      "affect\n",
      "stem\n",
      "beauty\n",
      "beaut\n"
     ]
    }
   ],
   "source": [
    "from nltk.stem import LancasterStemmer\n",
    "lst = LancasterStemmer()\n",
    "print(lst.stem('Affectionate'))\n",
    "print(lst.stem('affecting'))\n",
    "print(lst.stem('stemming'))\n",
    "print(lst.stem('beautiful'))\n",
    "print(lst.stem('beautification'))\n",
    "\n",
    "#LancasterStemmer is more aggressive than the PorterStemmer"
   ]
  },
  {
   "cell_type": "code",
   "execution_count": 56,
   "id": "176e261c",
   "metadata": {},
   "outputs": [
    {
     "name": "stdout",
     "output_type": "stream",
     "text": [
      "affection\n",
      "affect\n",
      "stem\n",
      "beauti\n",
      "beautif\n"
     ]
    }
   ],
   "source": [
    "from nltk.stem import SnowballStemmer\n",
    "sst = SnowballStemmer('english') #have to provide the language using\n",
    "print(sst.stem('Affectionate'))\n",
    "print(sst.stem('affecting'))\n",
    "print(sst.stem('stemming'))\n",
    "print(sst.stem('beautiful'))\n",
    "print(sst.stem('beautification'))\n"
   ]
  },
  {
   "cell_type": "markdown",
   "id": "740e077c",
   "metadata": {},
   "source": [
    "# Lemmatization \n",
    "similar to stemming except the output of Lemmatization is a proper word"
   ]
  },
  {
   "cell_type": "code",
   "execution_count": 57,
   "id": "323ba4e0",
   "metadata": {},
   "outputs": [],
   "source": [
    "from nltk.stem import wordnet\n",
    "from nltk.stem import WordNetLemmatizer\n",
    "word_lm = WordNetLemmatizer()"
   ]
  },
  {
   "cell_type": "code",
   "execution_count": 58,
   "id": "fe9bbf1c",
   "metadata": {},
   "outputs": [
    {
     "name": "stdout",
     "output_type": "stream",
     "text": [
      "Affectionate\n",
      "affecting\n",
      "stemming\n",
      "beautiful\n",
      "beautification\n"
     ]
    }
   ],
   "source": [
    "print(word_lm.lemmatize('Affectionate'))\n",
    "print(word_lm.lemmatize('affecting'))\n",
    "print(word_lm.lemmatize('stemming'))\n",
    "print(word_lm.lemmatize('beautiful'))\n",
    "print(word_lm.lemmatize('beautification'))"
   ]
  },
  {
   "cell_type": "markdown",
   "id": "4ccc4556",
   "metadata": {},
   "source": [
    "As we haven't assigned any POS(Parts of Speech, defining which word is a noun, which is a pronoun, etc) tags, lemmatization assumes everything as a noun.\n",
    "\n",
    "# Stop words\n",
    "words which are not helpful in language processing"
   ]
  },
  {
   "cell_type": "code",
   "execution_count": 61,
   "id": "c051e29b",
   "metadata": {},
   "outputs": [
    {
     "data": {
      "text/plain": [
       "179"
      ]
     },
     "execution_count": 61,
     "metadata": {},
     "output_type": "execute_result"
    }
   ],
   "source": [
    "from nltk.corpus import stopwords\n",
    "stpw = stopwords.words('english')\n",
    "len(stpw)"
   ]
  },
  {
   "cell_type": "code",
   "execution_count": 62,
   "id": "92feace3",
   "metadata": {},
   "outputs": [],
   "source": [
    "import re\n",
    "punctuation = re.compile(r'[-.?!,:;()|0-9]')"
   ]
  },
  {
   "cell_type": "code",
   "execution_count": 64,
   "id": "77710a36",
   "metadata": {},
   "outputs": [
    {
     "data": {
      "text/plain": [
       "['I',\n",
       " 'am',\n",
       " 'Soumi',\n",
       " 'Basu',\n",
       " 'I',\n",
       " 'am',\n",
       " 'a',\n",
       " 'good',\n",
       " 'person',\n",
       " 'I',\n",
       " 'am',\n",
       " 'sincere',\n",
       " 'amazing',\n",
       " 'creative',\n",
       " 'and',\n",
       " 'kind']"
      ]
     },
     "execution_count": 64,
     "metadata": {},
     "output_type": "execute_result"
    }
   ],
   "source": [
    "# removing punctuations from the sentence\n",
    "post_punctuation = []\n",
    "for words in some_tokens:\n",
    "    word = punctuation.sub(\"\",words)\n",
    "    if len(word)>0:\n",
    "        post_punctuation.append(word)\n",
    "        \n",
    "post_punctuation"
   ]
  },
  {
   "cell_type": "markdown",
   "id": "f334b4ee",
   "metadata": {},
   "source": [
    "# Working with Parts-of-Speech"
   ]
  },
  {
   "cell_type": "code",
   "execution_count": 72,
   "id": "85674212",
   "metadata": {},
   "outputs": [
    {
     "data": {
      "text/plain": [
       "[('I', 'PRP'),\n",
       " ('am', 'VBP'),\n",
       " ('Soumi', 'JJ'),\n",
       " ('Basu', 'NNP'),\n",
       " ('I', 'PRP'),\n",
       " ('am', 'VBP'),\n",
       " ('a', 'DT'),\n",
       " ('good', 'JJ'),\n",
       " ('person', 'NN'),\n",
       " ('I', 'PRP'),\n",
       " ('am', 'VBP'),\n",
       " ('sincere', 'RB'),\n",
       " ('amazing', 'JJ'),\n",
       " ('creative', 'NN'),\n",
       " ('and', 'CC'),\n",
       " ('kind', 'NN')]"
      ]
     },
     "execution_count": 72,
     "metadata": {},
     "output_type": "execute_result"
    }
   ],
   "source": [
    "some_tags = nltk.pos_tag(post_punctuation)\n",
    "some_tags"
   ]
  },
  {
   "cell_type": "markdown",
   "id": "8dee579e",
   "metadata": {},
   "source": [
    "# Named Entity Recognition (NER)"
   ]
  },
  {
   "cell_type": "markdown",
   "id": "ff2604f0",
   "metadata": {},
   "source": [
    "Indetifying named entities from text.\n",
    "\n",
    "3 steps involved:\n",
    "1) **noun phrase identification** \n",
    "    extracting noun phrases from atext using dependency passing and PoS tagging\n",
    "\n",
    "2) **Phrase classification**\n",
    "    all the extracted phrases are classified into respective categories such as location, person, etc.\n",
    "\n",
    "3) **Entity Disambiguation**\n",
    "    use knowledge graphs to clarify ambiguous relations.\n",
    "    Popular Knowledge graphs - Google knowledge graph, IBM Watson and Wikipedia\n",
    "    "
   ]
  },
  {
   "cell_type": "code",
   "execution_count": 69,
   "id": "ffb1e42e",
   "metadata": {},
   "outputs": [],
   "source": [
    "from nltk import ne_chunk"
   ]
  },
  {
   "cell_type": "code",
   "execution_count": 73,
   "id": "8bc39aab",
   "metadata": {},
   "outputs": [
    {
     "name": "stdout",
     "output_type": "stream",
     "text": [
      "(S\n",
      "  I/PRP\n",
      "  am/VBP\n",
      "  (PERSON Soumi/JJ Basu/NNP)\n",
      "  I/PRP\n",
      "  am/VBP\n",
      "  a/DT\n",
      "  good/JJ\n",
      "  person/NN\n",
      "  I/PRP\n",
      "  am/VBP\n",
      "  sincere/RB\n",
      "  amazing/JJ\n",
      "  creative/NN\n",
      "  and/CC\n",
      "  kind/NN)\n"
     ]
    }
   ],
   "source": [
    "some_ner = ne_chunk(some_tags)\n",
    "print(some_ner)"
   ]
  },
  {
   "cell_type": "markdown",
   "id": "ab486db2",
   "metadata": {},
   "source": [
    "**Syntax Tree** - Syntax Tree is a tree representation of syntactic structure of sentences or strings\n",
    "\n",
    "**Ghostscript** - used to render syntax trees in rmd\n",
    "\n",
    "**Chunking** - Picking up individual pieces of information and grouping them into bigger pieces - opposite of tokenization (well.. kinda!)"
   ]
  },
  {
   "cell_type": "code",
   "execution_count": 74,
   "id": "97a8f20f",
   "metadata": {},
   "outputs": [],
   "source": [
    "grammar_np = r\"NP: {<DT>?<JJ>*<NN>}\""
   ]
  },
  {
   "cell_type": "code",
   "execution_count": 75,
   "id": "59fdca7c",
   "metadata": {},
   "outputs": [],
   "source": [
    "chunk_parser = nltk.RegexpParser(grammar_np)"
   ]
  },
  {
   "cell_type": "code",
   "execution_count": 78,
   "id": "86503ded",
   "metadata": {},
   "outputs": [
    {
     "data": {
      "image/png": "[encoded data removed]",
      "text/plain": [
       "Tree('S', [('I', 'PRP'), ('am', 'VBP'), ('Soumi', 'JJ'), ('Basu', 'NNP'), ('I', 'PRP'), ('am', 'VBP'), Tree('NP', [('a', 'DT'), ('good', 'JJ'), ('person', 'NN')]), ('I', 'PRP'), ('am', 'VBP'), ('sincere', 'RB'), Tree('NP', [('amazing', 'JJ'), ('creative', 'NN')]), ('and', 'CC'), Tree('NP', [('kind', 'NN')])])"
      ]
     },
     "execution_count": 78,
     "metadata": {},
     "output_type": "execute_result"
    }
   ],
   "source": [
    "chunk_result = chunk_parser.parse(some_tags)\n",
    "chunk_result"
   ]
  }
 ],
 "metadata": {
  "kernelspec": {
   "display_name": "Python 3",
   "language": "python",
   "name": "python3"
  },
  "language_info": {
   "codemirror_mode": {
    "name": "ipython",
    "version": 3
   },
   "file_extension": ".py",
   "mimetype": "text/x-python",
   "name": "python",
   "nbconvert_exporter": "python",
   "pygments_lexer": "ipython3",
   "version": "3.8.8"
  }
 },
 "nbformat": 4,
 "nbformat_minor": 5
}
